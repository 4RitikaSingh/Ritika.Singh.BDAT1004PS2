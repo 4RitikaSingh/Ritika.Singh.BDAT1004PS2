{
 "cells": [
  {
   "cell_type": "markdown",
   "id": "f363f450",
   "metadata": {},
   "source": [
    "# Question 1\n",
    "## Consider the following Python module:\n",
    "\n",
    "## What value is displayed when the last expression (a) is evaluated? Explain your answer by indicating what happens in every executed statement."
   ]
  },
  {
   "cell_type": "code",
   "execution_count": 62,
   "id": "fa7d2ff8",
   "metadata": {
    "scrolled": false
   },
   "outputs": [],
   "source": [
    "a = 0\n",
    "def b():\n",
    " global a\n",
    " a = c(a)\n",
    "def c(a):\n",
    " return a + 2\n"
   ]
  },
  {
   "cell_type": "code",
   "execution_count": 64,
   "id": "399b1281",
   "metadata": {},
   "outputs": [
    {
     "data": {
      "text/plain": [
       "6"
      ]
     },
     "execution_count": 64,
     "metadata": {},
     "output_type": "execute_result"
    }
   ],
   "source": [
    "b() #First and formost, the value of a is increamented by 2 as c(a) returns the global var(a) + 2. a = 2\n",
    "b()  #After that the global a is increamented by 2, that makes a = 4.\n",
    "b()  #Finally,the global a is increamented again by 2. a = 6\n",
    "a    #Hence, prints the final value of a."
   ]
  },
  {
   "cell_type": "markdown",
   "id": "919692bd",
   "metadata": {},
   "source": [
    "# Question 2\n",
    "## Function fileLength(), given to you, takes the name of a file as input and returns the length of the file:\n",
    "### fileLength('midterm.py')\n",
    "### 284\n",
    "### fileLength('idterm.py')\n",
    "### Modify function fileLength()\n"
   ]
  },
  {
   "cell_type": "code",
   "execution_count": null,
   "id": "d0788cf7",
   "metadata": {},
   "outputs": [],
   "source": [
    "def file_length(file_name):\n",
    "    try:\n",
    "        file=open(file_name)\n",
    "        contents=file.read()\n",
    "        file.close()\n",
    "        print(len(contesnts))\n",
    "    except:\n",
    "        print(\"File \"+file_name+\" not found\")\n",
    "file_length('idterm.p')\n",
    "        "
   ]
  },
  {
   "cell_type": "markdown",
   "id": "d88340bd",
   "metadata": {},
   "source": [
    "# Question 3\n",
    "### Write a class named Marsupial that can be used as shown below"
   ]
  },
  {
   "cell_type": "code",
   "execution_count": null,
   "id": "7c3a0190",
   "metadata": {},
   "outputs": [],
   "source": [
    "class Marsupial:\n",
    "    def __init__(self, lis = []):\n",
    "        self.lis = []\n",
    "    def put_in_pouch(self, x):\n",
    "        self.lis.append(x)\n",
    "    def pouch_contents(self):\n",
    "        print(self.lis)"
   ]
  },
  {
   "cell_type": "code",
   "execution_count": null,
   "id": "6302b725",
   "metadata": {},
   "outputs": [],
   "source": [
    "m = Marsupial()\n",
    "m.put_in_pouch('doll')\n",
    "m.put_in_pouch('firetruck')\n",
    "m.put_in_pouch('kitten')\n",
    "m.pouch_contents()"
   ]
  },
  {
   "cell_type": "markdown",
   "id": "0fa01eb8",
   "metadata": {},
   "source": [
    "# Question 4\n",
    "## Write function collatz() that takes a positive integer x as input and prints the Collatz sequence starting at x. A Collatz sequence is obtained by repeatedly applying this rule to the previous number x in the sequence:\n",
    "## x = { 𝑥/2 𝑖𝑓 𝑥 𝑖𝑠 𝑒𝑣𝑒𝑛\n",
    "## 3𝑥 + 1 𝑖𝑓 𝑥 𝑖𝑠 𝑜𝑑𝑑\n",
    "## Your function should stop when the sequence gets to number \n",
    "## Your implementation must be recursive, without any loops."
   ]
  },
  {
   "cell_type": "code",
   "execution_count": 34,
   "id": "fd6af304",
   "metadata": {},
   "outputs": [
    {
     "name": "stdout",
     "output_type": "stream",
     "text": [
      "> 10\n",
      "5\n",
      "16\n",
      "8\n",
      "4\n",
      "2\n",
      "1\n"
     ]
    }
   ],
   "source": [
    "def collatz(a):\n",
    "    while a > 1:\n",
    "        if a % 2 == 0:\n",
    "            print(a//2)\n",
    "            a = a //2\n",
    "        elif a % 2 ==1:\n",
    "            print(3*a+1)\n",
    "            a = 3*a+1\n",
    "        else:\n",
    "            print(num)\n",
    "def Num():\n",
    "    global a\n",
    "    a = (input(\"> \"))\n",
    "    try:\n",
    "        a = int(a)\n",
    "    except ValueError:\n",
    "        print('plese enter a number')\n",
    "        Num()\n",
    "Num()\n",
    "collatz(a)"
   ]
  },
  {
   "cell_type": "markdown",
   "id": "9a6e410a",
   "metadata": {},
   "source": [
    "# Question 5\n",
    "## Write a recursive method binary() that takes a non-negative integer n and prints the binary representation of integer n.\n"
   ]
  },
  {
   "cell_type": "code",
   "execution_count": 58,
   "id": "d222b2c6",
   "metadata": {},
   "outputs": [],
   "source": [
    "def binary(n):\n",
    "    if n > 1:\n",
    "        binary(n//2)\n",
    " \n",
    "    print(n % 2, end=\"\")"
   ]
  },
  {
   "cell_type": "code",
   "execution_count": 59,
   "id": "e89bd0bb",
   "metadata": {},
   "outputs": [
    {
     "name": "stdout",
     "output_type": "stream",
     "text": [
      "1"
     ]
    }
   ],
   "source": [
    "binary(1)"
   ]
  },
  {
   "cell_type": "code",
   "execution_count": 60,
   "id": "ea36b673",
   "metadata": {},
   "outputs": [
    {
     "name": "stdout",
     "output_type": "stream",
     "text": [
      "11"
     ]
    }
   ],
   "source": [
    "binary(3)"
   ]
  },
  {
   "cell_type": "code",
   "execution_count": 61,
   "id": "8899118c",
   "metadata": {},
   "outputs": [
    {
     "name": "stdout",
     "output_type": "stream",
     "text": [
      "1001"
     ]
    }
   ],
   "source": [
    "binary(9)"
   ]
  },
  {
   "cell_type": "markdown",
   "id": "0e186cae",
   "metadata": {},
   "source": [
    "# Question 6"
   ]
  },
  {
   "cell_type": "code",
   "execution_count": 15,
   "id": "6ee02b04",
   "metadata": {},
   "outputs": [],
   "source": [
    "from html.parser import HTMLParser\n",
    "class HeadingParser(HTMLParser):\n",
    "  def handle_data(self, data):\n",
    "    print(data)"
   ]
  },
  {
   "cell_type": "code",
   "execution_count": 16,
   "id": "011850d5",
   "metadata": {},
   "outputs": [
    {
     "name": "stdout",
     "output_type": "stream",
     "text": [
      "\n",
      "\n",
      "\n",
      "\n",
      "\n",
      "\n",
      "  \n",
      "\n",
      "  \n",
      "\n",
      "  \n",
      "Change_me\n",
      "\n",
      "  \n",
      "\n",
      "  \n",
      "\n",
      "  \n",
      "\n",
      "\n",
      "\n",
      "\n",
      "\n",
      "\n",
      "  \n",
      "\t\n",
      "W3C Mission\n",
      "\n",
      "\t\n",
      "Principles\n",
      "\n",
      " \n",
      "\n",
      "\n",
      "\n",
      "\n",
      "\n"
     ]
    }
   ],
   "source": [
    "infile = open('w3.html')\n",
    "content = infile.read()\n",
    "infile.close()\n",
    "hp = HeadingParser()\n",
    "hp.feed(content)"
   ]
  },
  {
   "cell_type": "markdown",
   "id": "895a6251",
   "metadata": {},
   "source": [
    "# Question 7\n",
    "### Implement recursive function webdir() that takes as input: a URL (as a string) and non-negative integers depth and indent. Your function should visit every web page reachable from the starting URL web page in depth clicks or less, and print each web page's URL. As shown below, indentation, specified by indent, should be used to indicate the depth of a URL."
   ]
  },
  {
   "cell_type": "code",
   "execution_count": null,
   "id": "4dc83999",
   "metadata": {},
   "outputs": [],
   "source": []
  },
  {
   "cell_type": "markdown",
   "id": "8d1d2483",
   "metadata": {},
   "source": [
    "# Question 8\n",
    "## Write SQL queries on the below database table that return:\n",
    "### a) All the temperature data."
   ]
  },
  {
   "cell_type": "code",
   "execution_count": null,
   "id": "e0ab7101",
   "metadata": {},
   "outputs": [],
   "source": [
    "SELECT Temperature(C) as temp FROM TABLE;"
   ]
  },
  {
   "cell_type": "markdown",
   "id": "64adb6e6",
   "metadata": {},
   "source": [
    "### b) All the cities, but without repetition"
   ]
  },
  {
   "cell_type": "code",
   "execution_count": null,
   "id": "49c087e0",
   "metadata": {},
   "outputs": [],
   "source": [
    "SELECT DISTINCT(City) FROM TABLE;"
   ]
  },
  {
   "cell_type": "markdown",
   "id": "3d5635fe",
   "metadata": {},
   "source": [
    "### c) All the records for India."
   ]
  },
  {
   "cell_type": "code",
   "execution_count": null,
   "id": "358e97bd",
   "metadata": {},
   "outputs": [],
   "source": [
    "SELECT * FROM TABLE WHERE Country='INDIA';"
   ]
  },
  {
   "cell_type": "markdown",
   "id": "4e289659",
   "metadata": {},
   "source": [
    "### d) All the Fall records."
   ]
  },
  {
   "cell_type": "code",
   "execution_count": null,
   "id": "85d325aa",
   "metadata": {},
   "outputs": [],
   "source": [
    "SELECT * FROM TABLE WHERE Season='Fall';"
   ]
  },
  {
   "cell_type": "markdown",
   "id": "2cba0a83",
   "metadata": {},
   "source": [
    "### e) The city, country, and season for which the average rainfall is between 200 and 400 millimeters."
   ]
  },
  {
   "cell_type": "code",
   "execution_count": null,
   "id": "6c11ac57",
   "metadata": {},
   "outputs": [],
   "source": [
    "SELECT City,Country,Season FROM TABLE WHERE Rainfall (mm) as rainfall BETWEEN 200 AND 400;\n"
   ]
  },
  {
   "cell_type": "markdown",
   "id": "09bdd2b7",
   "metadata": {},
   "source": [
    "### f) The city and country for which the average Fall temperature is above 20 degrees, in increasing temperature order."
   ]
  },
  {
   "cell_type": "code",
   "execution_count": null,
   "id": "21070a70",
   "metadata": {},
   "outputs": [],
   "source": [
    "SELECT City,Country FROM TABLE WHERE Rainfall (mm) as rainfall > 20 ORDER BY rainfall;"
   ]
  },
  {
   "cell_type": "markdown",
   "id": "e13e2ee7",
   "metadata": {},
   "source": [
    "### g) The total annual rainfall for Cairo"
   ]
  },
  {
   "cell_type": "code",
   "execution_count": null,
   "id": "5482a4c7",
   "metadata": {},
   "outputs": [],
   "source": [
    "step 1: Rename the Rainfall (mm) column as rainfall\n",
    "SELECT Rainfall (mm) AS rainfall,City from TABLE\n",
    "SELECT SUM(rainfall) FROM TABLE WHERE City = \"Cairo\";"
   ]
  },
  {
   "cell_type": "markdown",
   "id": "1213894e",
   "metadata": {},
   "source": [
    "### h) The total rainfall for each season"
   ]
  },
  {
   "cell_type": "code",
   "execution_count": null,
   "id": "d885fc29",
   "metadata": {},
   "outputs": [],
   "source": [
    "SELECT SUM(Rainfall (mm) FROM TABLE GROUP BY Season;"
   ]
  },
  {
   "cell_type": "markdown",
   "id": "bbcae48f",
   "metadata": {},
   "source": [
    "# Question 9\n",
    "## Suppose list words is defined as follows:\n",
    "## words = ['The', 'quick', 'brown', 'fox', 'jumps', 'over','the', 'lazy', 'dog']\n",
    "### Write list comprehension expressions that use list words and generate the following lists:"
   ]
  },
  {
   "cell_type": "code",
   "execution_count": 22,
   "id": "9e050849",
   "metadata": {},
   "outputs": [
    {
     "name": "stdout",
     "output_type": "stream",
     "text": [
      "['THE', 'QUICK', 'BROWN', 'FOX', 'JUMP', 'OVER', 'THE', 'LAZY', 'DOG']\n"
     ]
    }
   ],
   "source": [
    "def Upper (words) :\n",
    "    for i in range(len(words)):\n",
    "        words[i]=words[i].upper()\n",
    "        \n",
    "    return words\n",
    "words = ['The', 'quick','brown','fox','jump','over','the','lazy','dog']\n",
    "#call function\n",
    "list_Upper=Upper (words)\n",
    "#print new List\n",
    "print(list_Upper)\n",
    "    "
   ]
  },
  {
   "cell_type": "code",
   "execution_count": 23,
   "id": "91ff3e1f",
   "metadata": {},
   "outputs": [
    {
     "name": "stdout",
     "output_type": "stream",
     "text": [
      "['the', 'quick', 'brown', 'fox', 'jump', 'over', 'the', 'lazy', 'dog']\n"
     ]
    }
   ],
   "source": [
    "def Lower(words) :\n",
    "    for i in range(len(words)):\n",
    "        words[i]=words[i].lower()\n",
    "        \n",
    "    return words\n",
    "words = ['The', 'quick','brown','fox','jump','over','the','lazy','dog']\n",
    "#call function\n",
    "list_Lower=Lower (words)\n",
    "#print new List\n",
    "print(list_Lower)"
   ]
  },
  {
   "cell_type": "code",
   "execution_count": 24,
   "id": "13399060",
   "metadata": {},
   "outputs": [
    {
     "name": "stdout",
     "output_type": "stream",
     "text": [
      "[3, 5, 5, 3, 4, 4, 3, 4, 3]\n"
     ]
    }
   ],
   "source": [
    "def Length(words) :\n",
    "    for i in range(len(words)):\n",
    "        words[i]=len(words[i])\n",
    "        \n",
    "    return words\n",
    "words = ['The', 'quick','brown','fox','jump','over','the','lazy','dog']\n",
    "#call function\n",
    "list_Length=Length (words)\n",
    "#print new List\n",
    "print(list_Length)"
   ]
  },
  {
   "cell_type": "code",
   "execution_count": 28,
   "id": "c1dd02d2",
   "metadata": {},
   "outputs": [
    {
     "name": "stdout",
     "output_type": "stream",
     "text": [
      "[['THE', 'the', 3], ['QUICK', 'quick', 5], ['BROWN', 'brown', 5], ['FOX', 'fox', 3], ['JUMP', 'jump', 4], ['OVER', 'over', 4], ['THE', 'the', 3], ['LAZY', 'lazy', 4], ['DOG', 'dog', 3]]\n"
     ]
    }
   ],
   "source": [
    "def Low_up_len(words):\n",
    "    list=[]\n",
    "    temp=[]\n",
    "    for i in range(len(words)):\n",
    "        temp.append(words[i].upper())\n",
    "        temp.append(words[i].lower())\n",
    "        temp.append(len(words[i]))\n",
    "        list.append(temp)\n",
    "        \n",
    "        temp=[]\n",
    "       \n",
    "        \n",
    "    return list\n",
    "words = ['The', 'quick','brown','fox','jump','over','the','lazy','dog']\n",
    "#call function\n",
    "list=Low_up_len(words)\n",
    "#print new List\n",
    "print(list)"
   ]
  },
  {
   "cell_type": "code",
   "execution_count": 31,
   "id": "2cbe93d1",
   "metadata": {},
   "outputs": [
    {
     "name": "stdout",
     "output_type": "stream",
     "text": [
      "['quick', 'brown', 'jump', 'over', 'lazy']\n"
     ]
    }
   ],
   "source": [
    "def more_4(words):\n",
    "    list=[]\n",
    "    temp=[]\n",
    "    for i in range(len(words)):\n",
    "        if len(words[i])>=4:\n",
    "            list.append(words[i])\n",
    "        \n",
    "       \n",
    "        \n",
    "    return list\n",
    "words = ['The', 'quick','brown','fox','jump','over','the','lazy','dog']\n",
    "#call function\n",
    "list=more_4(words)\n",
    "#print new List\n",
    "print(list)"
   ]
  },
  {
   "cell_type": "code",
   "execution_count": null,
   "id": "f79f8f49",
   "metadata": {},
   "outputs": [],
   "source": []
  }
 ],
 "metadata": {
  "kernelspec": {
   "display_name": "Python 3 (ipykernel)",
   "language": "python",
   "name": "python3"
  },
  "language_info": {
   "codemirror_mode": {
    "name": "ipython",
    "version": 3
   },
   "file_extension": ".py",
   "mimetype": "text/x-python",
   "name": "python",
   "nbconvert_exporter": "python",
   "pygments_lexer": "ipython3",
   "version": "3.9.12"
  }
 },
 "nbformat": 4,
 "nbformat_minor": 5
}
